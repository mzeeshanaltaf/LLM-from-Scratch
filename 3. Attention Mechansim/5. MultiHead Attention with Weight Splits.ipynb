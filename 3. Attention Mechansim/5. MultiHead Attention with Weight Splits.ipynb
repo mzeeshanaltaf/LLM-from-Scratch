{
 "cells": [
  {
   "cell_type": "markdown",
   "id": "d3eac334-3734-47c1-b263-35875991f171",
   "metadata": {},
   "source": [
    "## Implementing Multi-Head Attention with Weight Splits"
   ]
  },
  {
   "cell_type": "code",
   "execution_count": 3,
   "id": "b3c3ef1b-d89a-4c84-afc9-9998638a1779",
   "metadata": {},
   "outputs": [],
   "source": [
    "import torch\n",
    "import torch.nn as nn\n",
    "\n",
    "class MultiHeadAttention(nn.Module):\n",
    "    def __init__(self, d_in, d_out, context_length, dropout, num_heads, qkv_bias=False):\n",
    "        super().__init__()\n",
    "        assert (d_out % num_heads == 0), \\\n",
    "            \"d_out must be divisible by num_heads\"\n",
    "\n",
    "        self.d_out = d_out\n",
    "        self.num_heads = num_heads\n",
    "        self.head_dim = d_out // num_heads # Reduce the projection dim to match desired output dim\n",
    "\n",
    "        self.W_query = nn.Linear(d_in, d_out, bias=qkv_bias)\n",
    "        self.W_key = nn.Linear(d_in, d_out, bias=qkv_bias)\n",
    "        self.W_value = nn.Linear(d_in, d_out, bias=qkv_bias)\n",
    "        self.out_proj = nn.Linear(d_out, d_out)  # Linear layer to combine head outputs\n",
    "        self.dropout = nn.Dropout(dropout)\n",
    "        self.register_buffer(\n",
    "            \"mask\",\n",
    "            torch.triu(torch.ones(context_length, context_length),\n",
    "                       diagonal=1)\n",
    "        )\n",
    "\n",
    "    def forward(self, x):\n",
    "        b, num_tokens, d_in = x.shape\n",
    "\n",
    "        keys = self.W_key(x) # Shape: (b, num_tokens, d_out)\n",
    "        queries = self.W_query(x)\n",
    "        values = self.W_value(x)\n",
    "\n",
    "        # We implicitly split the matrix by adding a `num_heads` dimension\n",
    "        # Unroll last dim: (b, num_tokens, d_out) -> (b, num_tokens, num_heads, head_dim)\n",
    "        keys = keys.view(b, num_tokens, self.num_heads, self.head_dim) \n",
    "        values = values.view(b, num_tokens, self.num_heads, self.head_dim)\n",
    "        queries = queries.view(b, num_tokens, self.num_heads, self.head_dim)\n",
    "\n",
    "        # Transpose: (b, num_tokens, num_heads, head_dim) -> (b, num_heads, num_tokens, head_dim)\n",
    "        keys = keys.transpose(1, 2)\n",
    "        queries = queries.transpose(1, 2)\n",
    "        values = values.transpose(1, 2)\n",
    "\n",
    "        # Compute scaled dot-product attention (aka self-attention) with a causal mask\n",
    "        attn_scores = queries @ keys.transpose(2, 3)  # Dot product for each head\n",
    "\n",
    "        # Original mask truncated to the number of tokens and converted to boolean\n",
    "        mask_bool = self.mask.bool()[:num_tokens, :num_tokens]\n",
    "\n",
    "        # Use the mask to fill attention scores\n",
    "        attn_scores.masked_fill_(mask_bool, -torch.inf)\n",
    "        \n",
    "        attn_weights = torch.softmax(attn_scores / keys.shape[-1]**0.5, dim=-1)\n",
    "        attn_weights = self.dropout(attn_weights)\n",
    "\n",
    "        # Shape: (b, num_tokens, num_heads, head_dim)\n",
    "        context_vec = (attn_weights @ values).transpose(1, 2) \n",
    "        \n",
    "        # Combine heads, where self.d_out = self.num_heads * self.head_dim\n",
    "        context_vec = context_vec.contiguous().view(b, num_tokens, self.d_out)\n",
    "        context_vec = self.out_proj(context_vec) # optional projection\n",
    "\n",
    "        return context_vec"
   ]
  },
  {
   "cell_type": "code",
   "execution_count": 4,
   "id": "b71559f9-ebbc-4f5f-a0b6-26bd6e255166",
   "metadata": {},
   "outputs": [
    {
     "name": "stdout",
     "output_type": "stream",
     "text": [
      "torch.Size([2, 3, 6])\n"
     ]
    },
    {
     "data": {
      "text/plain": [
       "tensor([[[ 0.1569, -0.0873,  0.0210,  0.0215, -0.3243, -0.2518],\n",
       "         [ 0.1117, -0.0547,  0.0406, -0.0213, -0.3251, -0.2993],\n",
       "         [ 0.1196, -0.0491,  0.0318, -0.0635, -0.2788, -0.2578]],\n",
       "\n",
       "        [[ 0.1569, -0.0873,  0.0210,  0.0215, -0.3243, -0.2518],\n",
       "         [ 0.1117, -0.0547,  0.0406, -0.0213, -0.3251, -0.2993],\n",
       "         [ 0.1196, -0.0491,  0.0318, -0.0635, -0.2788, -0.2578]]],\n",
       "       grad_fn=<ViewBackward0>)"
      ]
     },
     "execution_count": 4,
     "metadata": {},
     "output_type": "execute_result"
    }
   ],
   "source": [
    "torch.manual_seed(123)\n",
    "\n",
    "inputs = torch.tensor(\n",
    "    [[0.43, 0.15, 0.89, 0.55, 0.87, 0.66], \n",
    "     [0.57, 0.85, 0.64, 0.22, 0.58, 0.33], \n",
    "     [0.77, 0.25, 0.10, 0.05, 0.80, 0.55]]\n",
    ")\n",
    "\n",
    "batch = torch.stack((inputs, inputs), dim=0)\n",
    "print(batch.shape)\n",
    "\n",
    "batch_size, context_length, d_in = batch.shape\n",
    "d_out = 6\n",
    "mha = MultiHeadAttention(d_in, d_out, context_length, 0.0, num_heads=2)\n",
    "context_vecs = mha(batch)\n",
    "context_vecs"
   ]
  },
  {
   "cell_type": "markdown",
   "id": "f4274c68-2697-4c4e-a6be-a02542882852",
   "metadata": {},
   "source": [
    "### Step by Step execution of MHA"
   ]
  },
  {
   "cell_type": "code",
   "execution_count": 9,
   "id": "f87f3a36-10cb-44fc-aca2-9ebf7a4345af",
   "metadata": {},
   "outputs": [
    {
     "data": {
      "text/plain": [
       "torch.Size([1, 3, 6])"
      ]
     },
     "execution_count": 9,
     "metadata": {},
     "output_type": "execute_result"
    }
   ],
   "source": [
    "x = torch.tensor(\n",
    "    [[[1.0, 2.0, 3.0, 4.0, 5.0, 6.0], \n",
    "      [6.0, 5.0, 4.0, 3.0, 2.0, 1.0], \n",
    "      [1.0, 1.0, 1.0, 1.0, 1.0, 1.0]]]\n",
    ")\n",
    "x.shape # Shape of x is (batch_size, num_tokens, d_in)"
   ]
  },
  {
   "cell_type": "code",
   "execution_count": 15,
   "id": "5e95caf9-f287-4664-9da3-aeceb8e348e9",
   "metadata": {},
   "outputs": [],
   "source": [
    "b, num_tokens, d_in = x.shape\n",
    "d_out = d_in\n",
    "num_heads = 2\n",
    "head_dim = d_out//num_heads\n",
    "context_length = num_tokens"
   ]
  },
  {
   "cell_type": "code",
   "execution_count": 10,
   "id": "f4649f03-aa4e-4f6f-b55d-14b49c79d6df",
   "metadata": {},
   "outputs": [
    {
     "data": {
      "text/plain": [
       "Parameter containing:\n",
       "tensor([[-0.2350,  0.2106,  0.2885, -0.3961, -0.3465, -0.3976],\n",
       "        [ 0.1540,  0.3286, -0.3165, -0.1890,  0.1299, -0.2666],\n",
       "        [ 0.3468,  0.0952, -0.1136,  0.0265,  0.1273, -0.1444],\n",
       "        [-0.3163,  0.0027,  0.0074,  0.0082, -0.0596,  0.2621],\n",
       "        [-0.1139, -0.0395,  0.1679, -0.2570,  0.1093, -0.0903],\n",
       "        [ 0.1958, -0.2215,  0.0151,  0.0399, -0.3285, -0.2969]],\n",
       "       requires_grad=True)"
      ]
     },
     "execution_count": 10,
     "metadata": {},
     "output_type": "execute_result"
    }
   ],
   "source": [
    "W_query = nn.Linear(d_in, d_out, bias=False)\n",
    "W_key = nn.Linear(d_in, d_out, bias=False)\n",
    "W_value = nn.Linear(d_in, d_out, bias=False)\n",
    "W_key.weight"
   ]
  },
  {
   "cell_type": "code",
   "execution_count": 11,
   "id": "9541d2fa-b88d-4f7b-892c-9dbfb8e658a7",
   "metadata": {},
   "outputs": [],
   "source": [
    "queries = W_query(x)\n",
    "keys = W_key(x)\n",
    "values = W_value(x)"
   ]
  },
  {
   "cell_type": "code",
   "execution_count": 12,
   "id": "636e4423-dc1f-4a41-aff7-92e8a28285f0",
   "metadata": {},
   "outputs": [],
   "source": [
    "# We implicitly split the matrix by adding a `num_heads` dimension\n",
    "# Unroll last dim: (b, num_tokens, d_out) -> (b, num_tokens, num_heads, head_dim)\n",
    "keys = keys.view(b, num_tokens, num_heads, head_dim) \n",
    "values = values.view(b, num_tokens, num_heads, head_dim)\n",
    "queries = queries.view(b, num_tokens, num_heads, head_dim)"
   ]
  },
  {
   "cell_type": "code",
   "execution_count": 13,
   "id": "56c0aae7-caf9-4eb7-affd-23fd07e33716",
   "metadata": {},
   "outputs": [],
   "source": [
    "# Transpose: (b, num_tokens, num_heads, head_dim) -> (b, num_heads, num_tokens, head_dim)\n",
    "keys = keys.transpose(1, 2)\n",
    "queries = queries.transpose(1, 2)\n",
    "values = values.transpose(1, 2)"
   ]
  },
  {
   "cell_type": "code",
   "execution_count": 14,
   "id": "be55a33c-cb62-43b1-9072-0a40a29f512e",
   "metadata": {},
   "outputs": [],
   "source": [
    "# Compute scaled dot-product attention (aka self-attention) with a causal mask\n",
    "attn_scores = queries @ keys.transpose(2, 3)"
   ]
  },
  {
   "cell_type": "code",
   "execution_count": 16,
   "id": "9c3e587c-0140-49a3-a176-84e586fa2cc3",
   "metadata": {},
   "outputs": [],
   "source": [
    "mask = torch.triu(torch.ones(context_length, context_length), diagonal=1)\n",
    "# Original mask truncated to the number of tokens and converted to boolean\n",
    "mask_bool = mask.bool()[:num_tokens, :num_tokens]"
   ]
  },
  {
   "cell_type": "code",
   "execution_count": 19,
   "id": "fc0ce421-11d8-49eb-b797-84b5415ed81c",
   "metadata": {},
   "outputs": [],
   "source": [
    "attn_scores = queries @ keys.transpose(2, 3)  # Dot product for each head\n",
    "attn_scores.masked_fill_(mask_bool, -torch.inf)\n",
    "attn_weights = torch.softmax(attn_scores / keys.shape[-1]**0.5, dim=-1)"
   ]
  },
  {
   "cell_type": "code",
   "execution_count": 20,
   "id": "99891e63-bafe-4fbe-9f03-f2ece0e09427",
   "metadata": {},
   "outputs": [],
   "source": [
    "# Shape: (b, num_tokens, num_heads, head_dim)\n",
    "context_vec = (attn_weights @ values).transpose(1, 2)"
   ]
  },
  {
   "cell_type": "code",
   "execution_count": 22,
   "id": "4053b0dc-f9b1-49c7-811e-b8359ce831b8",
   "metadata": {},
   "outputs": [],
   "source": [
    "# Combine heads, where self.d_out = self.num_heads * self.head_dim\n",
    "# Now the shape of context_vec is same as the shape of inputs\n",
    "context_vec = context_vec.contiguous().view(b, num_tokens, d_out)"
   ]
  },
  {
   "cell_type": "code",
   "execution_count": null,
   "id": "dca38dac-8c19-4e82-a710-1fd49a3124e0",
   "metadata": {},
   "outputs": [],
   "source": []
  }
 ],
 "metadata": {
  "kernelspec": {
   "display_name": "Python 3 (ipykernel)",
   "language": "python",
   "name": "python3"
  },
  "language_info": {
   "codemirror_mode": {
    "name": "ipython",
    "version": 3
   },
   "file_extension": ".py",
   "mimetype": "text/x-python",
   "name": "python",
   "nbconvert_exporter": "python",
   "pygments_lexer": "ipython3",
   "version": "3.12.7"
  }
 },
 "nbformat": 4,
 "nbformat_minor": 5
}
