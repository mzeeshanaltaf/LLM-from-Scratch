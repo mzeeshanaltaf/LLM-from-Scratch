{
 "cells": [
  {
   "cell_type": "code",
   "execution_count": 27,
   "id": "31029750-8fa6-4bea-a0f7-3616f5637760",
   "metadata": {},
   "outputs": [],
   "source": [
    "import tiktoken"
   ]
  },
  {
   "cell_type": "markdown",
   "id": "35190793-c86a-4af3-8571-59a8e92acd8f",
   "metadata": {},
   "source": [
    "## Data Loader"
   ]
  },
  {
   "cell_type": "code",
   "execution_count": 28,
   "id": "b9e5cc10-a485-4f06-94fc-565142e189ac",
   "metadata": {},
   "outputs": [],
   "source": [
    "from torch.utils.data import Dataset, DataLoader\n",
    "\n",
    "class GPTDatasetV1(Dataset):\n",
    "    def __init__(self, txt, tokenizer, max_length, stride):\n",
    "        self.input_ids = []\n",
    "        self.target_ids = []\n",
    "\n",
    "        # Tokenize the entire text\n",
    "        token_ids = tokenizer.encode(txt, allowed_special={'<|endoftext|>'})\n",
    "        \n",
    "        # Use a sliding window to chunk the book into overlapping sequences of max_length\n",
    "        for i in range(0, len(token_ids) - max_length, stride):\n",
    "            input_chunk = token_ids[i: i+max_length]\n",
    "            target_chunk = token_ids[i+1: i+max_length+1]\n",
    "            self.input_ids.append(torch.tensor(input_chunk))\n",
    "            self.target_ids.append(torch.tensor(target_chunk))\n",
    "\n",
    "    def __len__(self):\n",
    "        return len(self.input_ids)\n",
    "\n",
    "    def __getitem__(self, idx):\n",
    "        return self.input_ids[idx], self.target_ids[idx]\n",
    "        "
   ]
  },
  {
   "cell_type": "code",
   "execution_count": 10,
   "id": "42b5d787-513f-43b1-899b-1275484387b0",
   "metadata": {},
   "outputs": [],
   "source": [
    "def create_dataloader_v1(txt, batch_size=4, max_length=256, stride=128, shuffle=True, drop_last=True, num_workers=0):\n",
    "    \n",
    "    # Initialize the tokenizer\n",
    "    tokenizer = tiktoken.get_encoding(\"gpt2\")\n",
    "    \n",
    "    # Create dataset\n",
    "    dataset = GPTDatasetV1(txt, tokenizer, max_length, stride)\n",
    "\n",
    "    # Create dataloader\n",
    "    dataloader = DataLoader(dataset, batch_size=batch_size, shuffle=shuffle, drop_last=drop_last, num_workers=num_workers)\n",
    "\n",
    "    return dataloader"
   ]
  },
  {
   "cell_type": "code",
   "execution_count": 19,
   "id": "bdcc1d78-9167-4fd3-b2e8-8ccb9d8822cc",
   "metadata": {},
   "outputs": [],
   "source": [
    "# Open the file in read mode\n",
    "with open('verdict.txt', 'r', encoding='utf-8') as file:\n",
    "    # Read the contents of the file\n",
    "    raw_text = file.read()"
   ]
  },
  {
   "cell_type": "markdown",
   "id": "80c230c7-803a-4977-8a55-5363d10bf939",
   "metadata": {},
   "source": [
    "## Creating Token Embeddings"
   ]
  },
  {
   "cell_type": "code",
   "execution_count": 20,
   "id": "d49ee202-ffa0-4c74-b280-342a78a07ca4",
   "metadata": {},
   "outputs": [],
   "source": [
    "import torch\n",
    "# Let's see how the token ID to embedding vector conversion works\n",
    "input_ids = torch.tensor([2, 3, 5, 1])"
   ]
  },
  {
   "cell_type": "code",
   "execution_count": 21,
   "id": "17b182d6-f816-4c19-aea6-590106a062df",
   "metadata": {},
   "outputs": [],
   "source": [
    "# For the same of simplicity, suppose we have a small vocabulary of 6 words (instead of 50, 257 word vocabulary of GPT-2)\n",
    "# and we want to create embeddings of size 3\n",
    "vocab_size = 6\n",
    "output_dim = 3\n",
    "\n",
    "torch.manual_seed(123)\n",
    "embedding_layer = torch.nn.Embedding(vocab_size, output_dim)"
   ]
  },
  {
   "cell_type": "code",
   "execution_count": 22,
   "id": "cee53fff-35a5-4db3-b4cf-ccbfe04d076f",
   "metadata": {},
   "outputs": [
    {
     "data": {
      "text/plain": [
       "Parameter containing:\n",
       "tensor([[ 0.3374, -0.1778, -0.1690],\n",
       "        [ 0.9178,  1.5810,  1.3010],\n",
       "        [ 1.2753, -0.2010, -0.1606],\n",
       "        [-0.4015,  0.9666, -1.1481],\n",
       "        [-1.1589,  0.3255, -0.6315],\n",
       "        [-2.8400, -0.7849, -1.4096]], requires_grad=True)"
      ]
     },
     "execution_count": 22,
     "metadata": {},
     "output_type": "execute_result"
    }
   ],
   "source": [
    "embedding_layer.weight"
   ]
  },
  {
   "cell_type": "code",
   "execution_count": 23,
   "id": "6eea9693-76cc-49fa-9331-d5bf45952523",
   "metadata": {},
   "outputs": [
    {
     "data": {
      "text/plain": [
       "tensor([[-0.4015,  0.9666, -1.1481]], grad_fn=<EmbeddingBackward0>)"
      ]
     },
     "execution_count": 23,
     "metadata": {},
     "output_type": "execute_result"
    }
   ],
   "source": [
    "embedding_layer(torch.tensor([3]))"
   ]
  },
  {
   "cell_type": "code",
   "execution_count": 24,
   "id": "41d6436a-9305-49dc-807b-00fc41c78a19",
   "metadata": {},
   "outputs": [
    {
     "data": {
      "text/plain": [
       "tensor([[ 1.2753, -0.2010, -0.1606],\n",
       "        [-0.4015,  0.9666, -1.1481],\n",
       "        [-2.8400, -0.7849, -1.4096],\n",
       "        [ 0.9178,  1.5810,  1.3010]], grad_fn=<EmbeddingBackward0>)"
      ]
     },
     "execution_count": 24,
     "metadata": {},
     "output_type": "execute_result"
    }
   ],
   "source": [
    "embedding_layer(input_ids)"
   ]
  },
  {
   "cell_type": "markdown",
   "id": "8a88a5ee-b7d4-4a2a-8238-6790a4e5d441",
   "metadata": {},
   "source": [
    "## Positional Embeddings"
   ]
  },
  {
   "cell_type": "code",
   "execution_count": 25,
   "id": "8f4c876e-8055-4969-9c72-e893e6814fea",
   "metadata": {},
   "outputs": [],
   "source": [
    "vocab_size = 50257\n",
    "output_dim = 256\n",
    "\n",
    "token_embedding_layer = torch.nn.Embedding(vocab_size, output_dim)"
   ]
  },
  {
   "cell_type": "code",
   "execution_count": 29,
   "id": "09ec94c6-cd31-44ea-8abe-5a01c9b69369",
   "metadata": {},
   "outputs": [],
   "source": [
    "max_length = 4\n",
    "dataloader = create_dataloader_v1(raw_text, batch_size=8, max_length=max_length, stride=max_length, shuffle=True)\n",
    "\n",
    "data_iter = iter(dataloader)\n",
    "inputs, targets = next(data_iter)"
   ]
  },
  {
   "cell_type": "code",
   "execution_count": 30,
   "id": "92cabd69-4f9f-4a46-8bf0-8b8ba2e65946",
   "metadata": {},
   "outputs": [
    {
     "name": "stdout",
     "output_type": "stream",
     "text": [
      "Input Token IDs:\n",
      " tensor([[24818,   417,    12, 12239],\n",
      "        [  314,  3114,   379,   262],\n",
      "        [ 2156,   286,  4116,    13],\n",
      "        [  866,   262,  2119,    11],\n",
      "        [ 3363,    11,   340,   373],\n",
      "        [  198,     1,    40,  2900],\n",
      "        [  465, 14475,    13,   198],\n",
      "        [ 3081,   286,  2045,  1190]])\n",
      "\n",
      "Inputs Shape:\n",
      " torch.Size([8, 4])\n"
     ]
    }
   ],
   "source": [
    "print(\"Input Token IDs:\\n\", inputs)\n",
    "print(\"\\nInputs Shape:\\n\", inputs.shape)"
   ]
  },
  {
   "cell_type": "code",
   "execution_count": 31,
   "id": "55aae050-9a4c-4add-b516-e2b31a9c6717",
   "metadata": {},
   "outputs": [
    {
     "name": "stdout",
     "output_type": "stream",
     "text": [
      "Target Token IDs:\n",
      " tensor([[  417,    12, 12239,   438],\n",
      "        [ 3114,   379,   262, 50085],\n",
      "        [  286,  4116,    13,   679],\n",
      "        [  262,  2119,    11, 12225],\n",
      "        [   11,   340,   373,   314],\n",
      "        [    1,    40,  2900,   736],\n",
      "        [14475,    13,   198,   198],\n",
      "        [  286,  2045,  1190,  4119]])\n",
      "Target Shape:\n",
      " torch.Size([8, 4])\n"
     ]
    }
   ],
   "source": [
    "print(\"Target Token IDs:\\n\", targets)\n",
    "print(\"Target Shape:\\n\", targets.shape)"
   ]
  },
  {
   "cell_type": "code",
   "execution_count": 32,
   "id": "dc4aeda6-c1cd-416b-8c9f-e5f5b18e27ca",
   "metadata": {},
   "outputs": [
    {
     "data": {
      "text/plain": [
       "torch.Size([8, 4, 256])"
      ]
     },
     "execution_count": 32,
     "metadata": {},
     "output_type": "execute_result"
    }
   ],
   "source": [
    "# Let's use the embedding layer to embed these token IDs into 256-dimensional vectors:\n",
    "token_embeddings = token_embedding_layer(inputs)\n",
    "token_embeddings.shape"
   ]
  },
  {
   "cell_type": "code",
   "execution_count": 33,
   "id": "eda74b73-0ff7-4270-8ccb-1bd809abb0cb",
   "metadata": {},
   "outputs": [],
   "source": [
    "# Create positional embeddings\n",
    "context_length = max_length\n",
    "pos_embedding_layer = torch.nn.Embedding(context_length, output_dim)"
   ]
  },
  {
   "cell_type": "code",
   "execution_count": 34,
   "id": "f24be474-30ba-4c4d-a4c7-2147f9b9495f",
   "metadata": {},
   "outputs": [
    {
     "data": {
      "text/plain": [
       "torch.Size([4, 256])"
      ]
     },
     "execution_count": 34,
     "metadata": {},
     "output_type": "execute_result"
    }
   ],
   "source": [
    "pos_embeddings = pos_embedding_layer(torch.arange(max_length))\n",
    "pos_embeddings.shape"
   ]
  },
  {
   "cell_type": "markdown",
   "id": "557268a2-a524-4ca9-a6fc-1be8124317a9",
   "metadata": {},
   "source": [
    "## Input Embeddings"
   ]
  },
  {
   "cell_type": "code",
   "execution_count": 35,
   "id": "1353cb1b-8fdd-4141-b459-3dba13886e44",
   "metadata": {},
   "outputs": [
    {
     "data": {
      "text/plain": [
       "torch.Size([8, 4, 256])"
      ]
     },
     "execution_count": 35,
     "metadata": {},
     "output_type": "execute_result"
    }
   ],
   "source": [
    "input_embeddings = token_embeddings + pos_embeddings\n",
    "input_embeddings.shape"
   ]
  },
  {
   "cell_type": "code",
   "execution_count": null,
   "id": "f40b3f5c-7f82-49ea-b1fd-9231a98df09a",
   "metadata": {},
   "outputs": [],
   "source": []
  }
 ],
 "metadata": {
  "kernelspec": {
   "display_name": "Python 3 (ipykernel)",
   "language": "python",
   "name": "python3"
  },
  "language_info": {
   "codemirror_mode": {
    "name": "ipython",
    "version": 3
   },
   "file_extension": ".py",
   "mimetype": "text/x-python",
   "name": "python",
   "nbconvert_exporter": "python",
   "pygments_lexer": "ipython3",
   "version": "3.12.7"
  }
 },
 "nbformat": 4,
 "nbformat_minor": 5
}
