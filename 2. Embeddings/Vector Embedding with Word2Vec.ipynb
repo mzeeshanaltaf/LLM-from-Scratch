{
 "cells": [
  {
   "cell_type": "code",
   "execution_count": 3,
   "id": "cf1f323c-9f22-4571-9480-c7b085865199",
   "metadata": {},
   "outputs": [],
   "source": [
    "import gensim.downloader as api\n",
    "model = api.load(\"word2vec-google-news-300\")"
   ]
  },
  {
   "cell_type": "code",
   "execution_count": 4,
   "id": "b2016495-9088-4f64-be1f-a6d145996c89",
   "metadata": {},
   "outputs": [],
   "source": [
    "word_vectors = model"
   ]
  },
  {
   "cell_type": "code",
   "execution_count": 10,
   "id": "a3613b43-6616-4a4b-963a-6f8e86bd1b6d",
   "metadata": {},
   "outputs": [
    {
     "data": {
      "text/plain": [
       "(300,)"
      ]
     },
     "execution_count": 10,
     "metadata": {},
     "output_type": "execute_result"
    }
   ],
   "source": [
    "word_vectors['computer'].shape"
   ]
  },
  {
   "cell_type": "markdown",
   "id": "e690453e-49a7-4dac-9809-feb2d1ebf7a2",
   "metadata": {},
   "source": [
    "## Similar Words"
   ]
  },
  {
   "cell_type": "markdown",
   "id": "88e02bda-6ae5-4555-b4a5-32645be34c6e",
   "metadata": {},
   "source": [
    "### King + Woman - Man"
   ]
  },
  {
   "cell_type": "code",
   "execution_count": 11,
   "id": "952407e3-2127-4e90-b40b-0ce6d4e46da6",
   "metadata": {},
   "outputs": [
    {
     "data": {
      "text/plain": [
       "[('queen', 0.7118191123008728),\n",
       " ('monarch', 0.6189674735069275),\n",
       " ('princess', 0.5902430415153503),\n",
       " ('crown_prince', 0.5499458909034729),\n",
       " ('prince', 0.5377322435379028),\n",
       " ('kings', 0.5236843824386597),\n",
       " ('Queen_Consort', 0.5235945582389832),\n",
       " ('queens', 0.5181134939193726),\n",
       " ('sultan', 0.5098593235015869),\n",
       " ('monarchy', 0.5087411403656006)]"
      ]
     },
     "execution_count": 11,
     "metadata": {},
     "output_type": "execute_result"
    }
   ],
   "source": [
    "word_vectors.most_similar(positive=['king', 'woman'], negative=['man'], topn=10)"
   ]
  },
  {
   "cell_type": "markdown",
   "id": "d5f58d5f-b030-4c88-8230-640b4d03d075",
   "metadata": {},
   "source": [
    "### Similarity b/w pair of words"
   ]
  },
  {
   "cell_type": "code",
   "execution_count": 20,
   "id": "b974f2fe-d67e-4abd-a101-7f5b015f4a93",
   "metadata": {},
   "outputs": [
    {
     "name": "stdout",
     "output_type": "stream",
     "text": [
      "0.7664013\n",
      "0.6510956\n",
      "0.76434743\n",
      "0.8543272\n",
      "0.7594367\n",
      "0.46175942\n"
     ]
    }
   ],
   "source": [
    "# Example of calculating similarity\n",
    "print(word_vectors.similarity('woman', 'man'))\n",
    "print(word_vectors.similarity('king', 'queen'))\n",
    "print(word_vectors.similarity('uncle', 'aunt'))\n",
    "print(word_vectors.similarity('boy', 'girl'))\n",
    "print(word_vectors.similarity('nephew', 'niece'))\n",
    "print(word_vectors.similarity('maths', 'science'))"
   ]
  },
  {
   "cell_type": "markdown",
   "id": "f8a8a492-fd55-4d04-8eeb-651136a50c0e",
   "metadata": {},
   "source": [
    "### Most similar words"
   ]
  },
  {
   "cell_type": "code",
   "execution_count": 27,
   "id": "debb2dfd-f14b-430b-bba5-311861b36005",
   "metadata": {},
   "outputs": [
    {
     "name": "stdout",
     "output_type": "stream",
     "text": [
      "[('Jackson', 0.5326348543167114), ('Prince', 0.5306330323219299), ('Tupou_V.', 0.5292826294898987), ('KIng', 0.522750198841095), ('e_mail_robert.king_@', 0.5173622965812683)]\n"
     ]
    }
   ],
   "source": [
    "print(word_vectors.most_similar(\"King\", topn=5))"
   ]
  },
  {
   "cell_type": "markdown",
   "id": "2086c7f7-ae90-41a5-ac3e-bf88cfa3fd52",
   "metadata": {},
   "source": [
    "### Vector Similarity"
   ]
  },
  {
   "cell_type": "code",
   "execution_count": 32,
   "id": "b139594b-9fea-4028-82b2-bffbc44cef1f",
   "metadata": {},
   "outputs": [
    {
     "name": "stdout",
     "output_type": "stream",
     "text": [
      "The magnitude of the difference between 'man' and 'woman' is 1.73\n",
      "The magnitude of the difference between 'semiconductor' and 'earthworm' is 5.67\n",
      "The magnitude of the difference between 'nephew' and 'niece' is 1.96\n"
     ]
    }
   ],
   "source": [
    "import numpy as np\n",
    "# Words to compare\n",
    "word1 = 'man'\n",
    "word2 = 'woman'\n",
    "\n",
    "word3 = 'semiconductor'\n",
    "word4 = 'earthworm'\n",
    "\n",
    "word5 = 'nephew'\n",
    "word6 = 'niece'\n",
    "\n",
    "# Calculate the vector difference\n",
    "vector_difference1 = word_vectors[word1] - word_vectors[word2]\n",
    "vector_difference2 = word_vectors[word3] - word_vectors[word4]\n",
    "vector_difference3 = word_vectors[word5] - word_vectors[word6]\n",
    "\n",
    "# Calculate the magnitude of the vector difference\n",
    "magnitude_of_difference1 = np.linalg.norm(vector_difference1)\n",
    "magnitude_of_difference2 = np.linalg.norm(vector_difference2)\n",
    "magnitude_of_difference3 = np.linalg.norm(vector_difference3)\n",
    "\n",
    "\n",
    "# Print the magnitude of the difference\n",
    "print(f\"The magnitude of the difference between '{word1}' and '{word2}' is {magnitude_of_difference1:.2f}\")\n",
    "print(f\"The magnitude of the difference between '{word3}' and '{word4}' is {magnitude_of_difference2:.2f}\")\n",
    "print(f\"The magnitude of the difference between '{word5}' and '{word6}' is {magnitude_of_difference3:.2f}\")"
   ]
  },
  {
   "cell_type": "code",
   "execution_count": null,
   "id": "fff5e329-09ce-45bb-8a78-7e283cb0b2a6",
   "metadata": {},
   "outputs": [],
   "source": []
  },
  {
   "cell_type": "code",
   "execution_count": null,
   "id": "0dcde08a-f628-40e3-81e7-a824b637eadd",
   "metadata": {},
   "outputs": [],
   "source": []
  },
  {
   "cell_type": "code",
   "execution_count": null,
   "id": "10dea896-0731-45ba-8f8b-ff159d54d5d8",
   "metadata": {},
   "outputs": [],
   "source": []
  },
  {
   "cell_type": "code",
   "execution_count": null,
   "id": "bc40e92b-e73c-4734-ad5f-8a03ef0f2cc0",
   "metadata": {},
   "outputs": [],
   "source": []
  }
 ],
 "metadata": {
  "kernelspec": {
   "display_name": "Python 3 (ipykernel)",
   "language": "python",
   "name": "python3"
  },
  "language_info": {
   "codemirror_mode": {
    "name": "ipython",
    "version": 3
   },
   "file_extension": ".py",
   "mimetype": "text/x-python",
   "name": "python",
   "nbconvert_exporter": "python",
   "pygments_lexer": "ipython3",
   "version": "3.12.7"
  }
 },
 "nbformat": 4,
 "nbformat_minor": 5
}
